{
 "cells": [
  {
   "cell_type": "code",
   "execution_count": 18,
   "id": "9e36c4ee",
   "metadata": {},
   "outputs": [],
   "source": [
    "import pandas as pd"
   ]
  },
  {
   "cell_type": "code",
   "execution_count": 19,
   "id": "8b1826af",
   "metadata": {},
   "outputs": [],
   "source": [
    "df=pd.read_csv('C:\\Manikanta\\Projects\\Pizza\\Pizza_sales.csv')"
   ]
  },
  {
   "cell_type": "code",
   "execution_count": 20,
   "id": "3eb8b6a0",
   "metadata": {},
   "outputs": [
    {
     "data": {
      "text/html": [
       "<div>\n",
       "<style scoped>\n",
       "    .dataframe tbody tr th:only-of-type {\n",
       "        vertical-align: middle;\n",
       "    }\n",
       "\n",
       "    .dataframe tbody tr th {\n",
       "        vertical-align: top;\n",
       "    }\n",
       "\n",
       "    .dataframe thead th {\n",
       "        text-align: right;\n",
       "    }\n",
       "</style>\n",
       "<table border=\"1\" class=\"dataframe\">\n",
       "  <thead>\n",
       "    <tr style=\"text-align: right;\">\n",
       "      <th></th>\n",
       "      <th>Unnamed: 0</th>\n",
       "      <th>X</th>\n",
       "      <th>id</th>\n",
       "      <th>date</th>\n",
       "      <th>time</th>\n",
       "      <th>name</th>\n",
       "      <th>size</th>\n",
       "      <th>type</th>\n",
       "      <th>price</th>\n",
       "    </tr>\n",
       "  </thead>\n",
       "  <tbody>\n",
       "    <tr>\n",
       "      <th>0</th>\n",
       "      <td>1</td>\n",
       "      <td>1</td>\n",
       "      <td>2015-000001</td>\n",
       "      <td>2015-01-01</td>\n",
       "      <td>11:38:36</td>\n",
       "      <td>hawaiian</td>\n",
       "      <td>M</td>\n",
       "      <td>classic</td>\n",
       "      <td>13.25</td>\n",
       "    </tr>\n",
       "    <tr>\n",
       "      <th>1</th>\n",
       "      <td>2</td>\n",
       "      <td>2</td>\n",
       "      <td>2015-000002</td>\n",
       "      <td>2015-01-01</td>\n",
       "      <td>11:57:40</td>\n",
       "      <td>classic_dlx</td>\n",
       "      <td>M</td>\n",
       "      <td>classic</td>\n",
       "      <td>16.00</td>\n",
       "    </tr>\n",
       "    <tr>\n",
       "      <th>2</th>\n",
       "      <td>3</td>\n",
       "      <td>3</td>\n",
       "      <td>2015-000002</td>\n",
       "      <td>2015-01-01</td>\n",
       "      <td>11:57:40</td>\n",
       "      <td>mexicana</td>\n",
       "      <td>M</td>\n",
       "      <td>veggie</td>\n",
       "      <td>16.00</td>\n",
       "    </tr>\n",
       "    <tr>\n",
       "      <th>3</th>\n",
       "      <td>4</td>\n",
       "      <td>4</td>\n",
       "      <td>2015-000002</td>\n",
       "      <td>2015-01-01</td>\n",
       "      <td>11:57:40</td>\n",
       "      <td>thai_ckn</td>\n",
       "      <td>L</td>\n",
       "      <td>chicken</td>\n",
       "      <td>20.75</td>\n",
       "    </tr>\n",
       "    <tr>\n",
       "      <th>4</th>\n",
       "      <td>5</td>\n",
       "      <td>5</td>\n",
       "      <td>2015-000002</td>\n",
       "      <td>2015-01-01</td>\n",
       "      <td>11:57:40</td>\n",
       "      <td>five_cheese</td>\n",
       "      <td>L</td>\n",
       "      <td>veggie</td>\n",
       "      <td>18.50</td>\n",
       "    </tr>\n",
       "  </tbody>\n",
       "</table>\n",
       "</div>"
      ],
      "text/plain": [
       "   Unnamed: 0  X           id        date      time         name size  \\\n",
       "0           1  1  2015-000001  2015-01-01  11:38:36     hawaiian    M   \n",
       "1           2  2  2015-000002  2015-01-01  11:57:40  classic_dlx    M   \n",
       "2           3  3  2015-000002  2015-01-01  11:57:40     mexicana    M   \n",
       "3           4  4  2015-000002  2015-01-01  11:57:40     thai_ckn    L   \n",
       "4           5  5  2015-000002  2015-01-01  11:57:40  five_cheese    L   \n",
       "\n",
       "      type  price  \n",
       "0  classic  13.25  \n",
       "1  classic  16.00  \n",
       "2   veggie  16.00  \n",
       "3  chicken  20.75  \n",
       "4   veggie  18.50  "
      ]
     },
     "execution_count": 20,
     "metadata": {},
     "output_type": "execute_result"
    }
   ],
   "source": [
    "df.head()"
   ]
  },
  {
   "cell_type": "code",
   "execution_count": 21,
   "id": "0cf10e86",
   "metadata": {},
   "outputs": [
    {
     "data": {
      "text/plain": [
       "(49574, 9)"
      ]
     },
     "execution_count": 21,
     "metadata": {},
     "output_type": "execute_result"
    }
   ],
   "source": [
    "df.shape"
   ]
  },
  {
   "cell_type": "code",
   "execution_count": 22,
   "id": "7c9ec712",
   "metadata": {},
   "outputs": [
    {
     "data": {
      "text/plain": [
       "Index(['Unnamed: 0', 'X', 'id', 'date', 'time', 'name', 'size', 'type',\n",
       "       'price'],\n",
       "      dtype='object')"
      ]
     },
     "execution_count": 22,
     "metadata": {},
     "output_type": "execute_result"
    }
   ],
   "source": [
    "df.columns"
   ]
  },
  {
   "cell_type": "code",
   "execution_count": 23,
   "id": "28348e5b",
   "metadata": {},
   "outputs": [],
   "source": [
    "#trying to create values in new coloumns\n",
    "df['new']=df['Unnamed: 0']"
   ]
  },
  {
   "cell_type": "code",
   "execution_count": 34,
   "id": "e25a1cac",
   "metadata": {},
   "outputs": [],
   "source": [
    "df.rename(columns={\"Unnamed: 0\":\"Temp\"}, inplace=True)"
   ]
  },
  {
   "cell_type": "code",
   "execution_count": 41,
   "id": "1ba76c2c",
   "metadata": {},
   "outputs": [],
   "source": [
    "df.drop(columns={\"new\",\"Temp\"}, inplace=True)"
   ]
  },
  {
   "cell_type": "code",
   "execution_count": 42,
   "id": "cf235824",
   "metadata": {},
   "outputs": [
    {
     "data": {
      "text/html": [
       "<div>\n",
       "<style scoped>\n",
       "    .dataframe tbody tr th:only-of-type {\n",
       "        vertical-align: middle;\n",
       "    }\n",
       "\n",
       "    .dataframe tbody tr th {\n",
       "        vertical-align: top;\n",
       "    }\n",
       "\n",
       "    .dataframe thead th {\n",
       "        text-align: right;\n",
       "    }\n",
       "</style>\n",
       "<table border=\"1\" class=\"dataframe\">\n",
       "  <thead>\n",
       "    <tr style=\"text-align: right;\">\n",
       "      <th></th>\n",
       "      <th>id</th>\n",
       "      <th>date</th>\n",
       "      <th>time</th>\n",
       "      <th>name</th>\n",
       "      <th>size</th>\n",
       "      <th>type</th>\n",
       "      <th>price</th>\n",
       "    </tr>\n",
       "    <tr>\n",
       "      <th>X</th>\n",
       "      <th></th>\n",
       "      <th></th>\n",
       "      <th></th>\n",
       "      <th></th>\n",
       "      <th></th>\n",
       "      <th></th>\n",
       "      <th></th>\n",
       "    </tr>\n",
       "  </thead>\n",
       "  <tbody>\n",
       "    <tr>\n",
       "      <th>1</th>\n",
       "      <td>2015-000001</td>\n",
       "      <td>2015-01-01</td>\n",
       "      <td>11:38:36</td>\n",
       "      <td>hawaiian</td>\n",
       "      <td>M</td>\n",
       "      <td>classic</td>\n",
       "      <td>13.25</td>\n",
       "    </tr>\n",
       "    <tr>\n",
       "      <th>2</th>\n",
       "      <td>2015-000002</td>\n",
       "      <td>2015-01-01</td>\n",
       "      <td>11:57:40</td>\n",
       "      <td>classic_dlx</td>\n",
       "      <td>M</td>\n",
       "      <td>classic</td>\n",
       "      <td>16.00</td>\n",
       "    </tr>\n",
       "    <tr>\n",
       "      <th>3</th>\n",
       "      <td>2015-000002</td>\n",
       "      <td>2015-01-01</td>\n",
       "      <td>11:57:40</td>\n",
       "      <td>mexicana</td>\n",
       "      <td>M</td>\n",
       "      <td>veggie</td>\n",
       "      <td>16.00</td>\n",
       "    </tr>\n",
       "    <tr>\n",
       "      <th>4</th>\n",
       "      <td>2015-000002</td>\n",
       "      <td>2015-01-01</td>\n",
       "      <td>11:57:40</td>\n",
       "      <td>thai_ckn</td>\n",
       "      <td>L</td>\n",
       "      <td>chicken</td>\n",
       "      <td>20.75</td>\n",
       "    </tr>\n",
       "    <tr>\n",
       "      <th>5</th>\n",
       "      <td>2015-000002</td>\n",
       "      <td>2015-01-01</td>\n",
       "      <td>11:57:40</td>\n",
       "      <td>five_cheese</td>\n",
       "      <td>L</td>\n",
       "      <td>veggie</td>\n",
       "      <td>18.50</td>\n",
       "    </tr>\n",
       "  </tbody>\n",
       "</table>\n",
       "</div>"
      ],
      "text/plain": [
       "            id        date      time         name size     type  price\n",
       "X                                                                     \n",
       "1  2015-000001  2015-01-01  11:38:36     hawaiian    M  classic  13.25\n",
       "2  2015-000002  2015-01-01  11:57:40  classic_dlx    M  classic  16.00\n",
       "3  2015-000002  2015-01-01  11:57:40     mexicana    M   veggie  16.00\n",
       "4  2015-000002  2015-01-01  11:57:40     thai_ckn    L  chicken  20.75\n",
       "5  2015-000002  2015-01-01  11:57:40  five_cheese    L   veggie  18.50"
      ]
     },
     "execution_count": 42,
     "metadata": {},
     "output_type": "execute_result"
    }
   ],
   "source": [
    "df.set_index('X').head()"
   ]
  },
  {
   "cell_type": "code",
   "execution_count": 44,
   "id": "b516539a",
   "metadata": {},
   "outputs": [
    {
     "data": {
      "text/html": [
       "<div>\n",
       "<style scoped>\n",
       "    .dataframe tbody tr th:only-of-type {\n",
       "        vertical-align: middle;\n",
       "    }\n",
       "\n",
       "    .dataframe tbody tr th {\n",
       "        vertical-align: top;\n",
       "    }\n",
       "\n",
       "    .dataframe thead th {\n",
       "        text-align: right;\n",
       "    }\n",
       "</style>\n",
       "<table border=\"1\" class=\"dataframe\">\n",
       "  <thead>\n",
       "    <tr style=\"text-align: right;\">\n",
       "      <th></th>\n",
       "      <th>X</th>\n",
       "      <th>price</th>\n",
       "    </tr>\n",
       "  </thead>\n",
       "  <tbody>\n",
       "    <tr>\n",
       "      <th>count</th>\n",
       "      <td>49574.000000</td>\n",
       "      <td>49574.000000</td>\n",
       "    </tr>\n",
       "    <tr>\n",
       "      <th>mean</th>\n",
       "      <td>24787.500000</td>\n",
       "      <td>16.497762</td>\n",
       "    </tr>\n",
       "    <tr>\n",
       "      <th>std</th>\n",
       "      <td>14310.925459</td>\n",
       "      <td>3.621954</td>\n",
       "    </tr>\n",
       "    <tr>\n",
       "      <th>min</th>\n",
       "      <td>1.000000</td>\n",
       "      <td>9.750000</td>\n",
       "    </tr>\n",
       "    <tr>\n",
       "      <th>25%</th>\n",
       "      <td>12394.250000</td>\n",
       "      <td>12.750000</td>\n",
       "    </tr>\n",
       "    <tr>\n",
       "      <th>50%</th>\n",
       "      <td>24787.500000</td>\n",
       "      <td>16.500000</td>\n",
       "    </tr>\n",
       "    <tr>\n",
       "      <th>75%</th>\n",
       "      <td>37180.750000</td>\n",
       "      <td>20.250000</td>\n",
       "    </tr>\n",
       "    <tr>\n",
       "      <th>max</th>\n",
       "      <td>49574.000000</td>\n",
       "      <td>35.950000</td>\n",
       "    </tr>\n",
       "  </tbody>\n",
       "</table>\n",
       "</div>"
      ],
      "text/plain": [
       "                  X         price\n",
       "count  49574.000000  49574.000000\n",
       "mean   24787.500000     16.497762\n",
       "std    14310.925459      3.621954\n",
       "min        1.000000      9.750000\n",
       "25%    12394.250000     12.750000\n",
       "50%    24787.500000     16.500000\n",
       "75%    37180.750000     20.250000\n",
       "max    49574.000000     35.950000"
      ]
     },
     "execution_count": 44,
     "metadata": {},
     "output_type": "execute_result"
    }
   ],
   "source": [
    "df.describe()"
   ]
  },
  {
   "cell_type": "code",
   "execution_count": 47,
   "id": "fe71c70d",
   "metadata": {},
   "outputs": [
    {
     "data": {
      "text/plain": [
       "X        0\n",
       "id       0\n",
       "date     0\n",
       "time     0\n",
       "name     0\n",
       "size     0\n",
       "type     0\n",
       "price    0\n",
       "dtype: int64"
      ]
     },
     "execution_count": 47,
     "metadata": {},
     "output_type": "execute_result"
    }
   ],
   "source": [
    "df.isnull().sum()"
   ]
  },
  {
   "cell_type": "code",
   "execution_count": 50,
   "id": "5a9b5626",
   "metadata": {},
   "outputs": [
    {
     "data": {
      "text/plain": [
       "32"
      ]
     },
     "execution_count": 50,
     "metadata": {},
     "output_type": "execute_result"
    }
   ],
   "source": [
    "df['name'].drop_duplicates().count()"
   ]
  },
  {
   "cell_type": "code",
   "execution_count": 51,
   "id": "9d4f2f3c",
   "metadata": {},
   "outputs": [
    {
     "name": "stdout",
     "output_type": "stream",
     "text": [
      "<class 'pandas.core.frame.DataFrame'>\n",
      "Int64Index: 49574 entries, 0 to 49573\n",
      "Data columns (total 8 columns):\n",
      " #   Column  Non-Null Count  Dtype  \n",
      "---  ------  --------------  -----  \n",
      " 0   X       49574 non-null  int64  \n",
      " 1   id      49574 non-null  object \n",
      " 2   date    49574 non-null  object \n",
      " 3   time    49574 non-null  object \n",
      " 4   name    49574 non-null  object \n",
      " 5   size    49574 non-null  object \n",
      " 6   type    49574 non-null  object \n",
      " 7   price   49574 non-null  float64\n",
      "dtypes: float64(1), int64(1), object(6)\n",
      "memory usage: 3.4+ MB\n"
     ]
    }
   ],
   "source": [
    "df.info()"
   ]
  },
  {
   "cell_type": "code",
   "execution_count": 53,
   "id": "2fbe542c",
   "metadata": {},
   "outputs": [
    {
     "data": {
      "text/plain": [
       "X          int64\n",
       "id        object\n",
       "date      object\n",
       "time      object\n",
       "name      object\n",
       "size      object\n",
       "type      object\n",
       "price    float64\n",
       "dtype: object"
      ]
     },
     "execution_count": 53,
     "metadata": {},
     "output_type": "execute_result"
    }
   ],
   "source": [
    "df.dtypes"
   ]
  },
  {
   "cell_type": "code",
   "execution_count": 68,
   "id": "a97c9eec",
   "metadata": {},
   "outputs": [],
   "source": [
    "import datetime as dt"
   ]
  },
  {
   "cell_type": "code",
   "execution_count": 69,
   "id": "8b3bb557",
   "metadata": {},
   "outputs": [
    {
     "data": {
      "text/plain": [
       "dtype('<M8[ns]')"
      ]
     },
     "execution_count": 69,
     "metadata": {},
     "output_type": "execute_result"
    }
   ],
   "source": [
    "df['date'].dtypes"
   ]
  },
  {
   "cell_type": "code",
   "execution_count": 70,
   "id": "1a833d3c",
   "metadata": {},
   "outputs": [],
   "source": [
    "df['date']=pd.to_datetime(df['date'])"
   ]
  },
  {
   "cell_type": "code",
   "execution_count": 71,
   "id": "6cea5b51",
   "metadata": {},
   "outputs": [
    {
     "data": {
      "text/plain": [
       "X                 int64\n",
       "id               object\n",
       "date     datetime64[ns]\n",
       "time             object\n",
       "name             object\n",
       "size             object\n",
       "type             object\n",
       "price           float64\n",
       "dtype: object"
      ]
     },
     "execution_count": 71,
     "metadata": {},
     "output_type": "execute_result"
    }
   ],
   "source": [
    "df.dtypes"
   ]
  },
  {
   "cell_type": "code",
   "execution_count": 75,
   "id": "5899c81b",
   "metadata": {},
   "outputs": [],
   "source": [
    "df['Year']=pd.DatetimeIndex(df['date']).year\n",
    "df['Month']=pd.DatetimeIndex(df['date']).month"
   ]
  },
  {
   "cell_type": "code",
   "execution_count": 76,
   "id": "4ed327fa",
   "metadata": {},
   "outputs": [
    {
     "data": {
      "text/plain": [
       "0         1\n",
       "4232      2\n",
       "8193      3\n",
       "12454     4\n",
       "16605     5\n",
       "20933     6\n",
       "25040     7\n",
       "29432     8\n",
       "33600     9\n",
       "37490    10\n",
       "41373    11\n",
       "45639    12\n",
       "Name: Month, dtype: int64"
      ]
     },
     "execution_count": 76,
     "metadata": {},
     "output_type": "execute_result"
    }
   ],
   "source": [
    "df['Month'].drop_duplicates()"
   ]
  },
  {
   "cell_type": "code",
   "execution_count": 84,
   "id": "905e801f",
   "metadata": {},
   "outputs": [
    {
     "data": {
      "text/plain": [
       "Month  type   \n",
       "1      chicken    16188.75\n",
       "       classic    18619.40\n",
       "       supreme    17929.75\n",
       "       veggie     17055.40\n",
       "2      chicken    15468.25\n",
       "       classic    17336.10\n",
       "       supreme    16718.85\n",
       "       veggie     15636.40\n",
       "3      chicken    17625.50\n",
       "       classic    18116.60\n",
       "       supreme    17319.65\n",
       "       veggie     17335.35\n",
       "4      chicken    16473.00\n",
       "       classic    18816.80\n",
       "       supreme    17643.55\n",
       "       veggie     15803.45\n",
       "5      chicken    16752.25\n",
       "       classic    19423.10\n",
       "       supreme    18315.65\n",
       "       veggie     16911.75\n",
       "6      chicken    16086.50\n",
       "       classic    18035.90\n",
       "       supreme    18097.25\n",
       "       veggie     16010.55\n",
       "7      chicken    17002.25\n",
       "       classic    19653.00\n",
       "       supreme    18216.85\n",
       "       veggie     17685.80\n",
       "8      chicken    16352.50\n",
       "       classic    18821.90\n",
       "       supreme    17093.45\n",
       "       veggie     16010.40\n",
       "9      chicken    16039.00\n",
       "       classic    17832.85\n",
       "       supreme    15295.60\n",
       "       veggie     15012.60\n",
       "10     chicken    14792.00\n",
       "       classic    17409.15\n",
       "       supreme    17275.10\n",
       "       veggie     14551.35\n",
       "11     chicken    17399.75\n",
       "       classic    18585.60\n",
       "       supreme    18202.80\n",
       "       veggie     16207.20\n",
       "12     chicken    15739.75\n",
       "       classic    17402.70\n",
       "       supreme    16088.50\n",
       "       veggie     15470.20\n",
       "Name: price, dtype: float64"
      ]
     },
     "execution_count": 84,
     "metadata": {},
     "output_type": "execute_result"
    }
   ],
   "source": [
    "#monthly sales \n",
    "df.groupby(['Month','type'])['price'].sum()"
   ]
  },
  {
   "cell_type": "code",
   "execution_count": 106,
   "id": "1547df2a",
   "metadata": {},
   "outputs": [],
   "source": [
    "from matplotlib import pyplot as plt \n",
    "import seaborn as sns\n",
    "import numpy as np"
   ]
  },
  {
   "cell_type": "code",
   "execution_count": 107,
   "id": "5dae0534",
   "metadata": {},
   "outputs": [],
   "source": [
    "#checking Monthly sales\n",
    "df_monthly_sales=df.groupby('Month')['price'].sum()"
   ]
  },
  {
   "cell_type": "code",
   "execution_count": 108,
   "id": "d57126a2",
   "metadata": {},
   "outputs": [
    {
     "data": {
      "text/plain": [
       "Month\n",
       "1     69793.30\n",
       "2     65159.60\n",
       "3     70397.10\n",
       "4     68736.80\n",
       "5     71402.75\n",
       "6     68230.20\n",
       "7     72557.90\n",
       "8     68278.25\n",
       "9     64180.05\n",
       "10    64027.60\n",
       "11    70395.35\n",
       "12    64701.15\n",
       "Name: price, dtype: float64"
      ]
     },
     "execution_count": 108,
     "metadata": {},
     "output_type": "execute_result"
    }
   ],
   "source": [
    "df_monthly_sales"
   ]
  },
  {
   "cell_type": "code",
   "execution_count": 118,
   "id": "18701c26",
   "metadata": {},
   "outputs": [
    {
     "data": {
      "text/plain": [
       "<AxesSubplot:xlabel='Month', ylabel='price'>"
      ]
     },
     "execution_count": 118,
     "metadata": {},
     "output_type": "execute_result"
    },
    {
     "data": {
      "image/png": "[encoded data removed]",
      "text/plain": [
       "<Figure size 640x480 with 1 Axes>"
      ]
     },
     "metadata": {},
     "output_type": "display_data"
    }
   ],
   "source": [
    "#From the below fig we see there is very less sales in Sep and Oct\n",
    "sns.lineplot(data=df, x='Month',y='price',ci=None,estimator=np.sum)"
   ]
  },
  {
   "cell_type": "code",
   "execution_count": 121,
   "id": "4ea2fcc5",
   "metadata": {},
   "outputs": [
    {
     "data": {
      "text/plain": [
       "<AxesSubplot:xlabel='Month', ylabel='price'>"
      ]
     },
     "execution_count": 121,
     "metadata": {},
     "output_type": "execute_result"
    },
    {
     "data": {
      "image/png": "[encoded data removed]",
      "text/plain": [
       "<Figure size 640x480 with 1 Axes>"
      ]
     },
     "metadata": {},
     "output_type": "display_data"
    }
   ],
   "source": [
    "#based on type of analysis we see classisc pizza is doing weel when compared to other Variety\n",
    "sns.lineplot(data=df, x='Month',y='price',ci=None,estimator=np.sum,hue='type')"
   ]
  },
  {
   "cell_type": "code",
   "execution_count": 129,
   "id": "3cf58b53",
   "metadata": {},
   "outputs": [
    {
     "data": {
      "text/plain": [
       "size  type   \n",
       "L     chicken    4932\n",
       "      classic    4057\n",
       "      supreme    4564\n",
       "      veggie     5403\n",
       "M     chicken    3894\n",
       "      classic    4112\n",
       "      supreme    4046\n",
       "      veggie     3583\n",
       "S     chicken    2224\n",
       "      classic    6139\n",
       "      supreme    3377\n",
       "      veggie     2663\n",
       "XL    classic     552\n",
       "XXL   classic      28\n",
       "Name: price, dtype: int64"
      ]
     },
     "execution_count": 129,
     "metadata": {},
     "output_type": "execute_result"
    }
   ],
   "source": [
    "df_Varity_Sales=df.groupby(['size','type'],)['price'].count()\n",
    "df_Varity_Sales"
   ]
  },
  {
   "cell_type": "code",
   "execution_count": 139,
   "id": "eaea97bf",
   "metadata": {},
   "outputs": [
    {
     "data": {
      "text/plain": [
       "21350"
      ]
     },
     "execution_count": 139,
     "metadata": {},
     "output_type": "execute_result"
    }
   ],
   "source": [
    "# we see 21350 Customers have orderd\n",
    "df['id'].unique().size"
   ]
  },
  {
   "cell_type": "code",
   "execution_count": 146,
   "id": "9e6862a9",
   "metadata": {},
   "outputs": [
    {
     "data": {
      "text/html": [
       "<div>\n",
       "<style scoped>\n",
       "    .dataframe tbody tr th:only-of-type {\n",
       "        vertical-align: middle;\n",
       "    }\n",
       "\n",
       "    .dataframe tbody tr th {\n",
       "        vertical-align: top;\n",
       "    }\n",
       "\n",
       "    .dataframe thead tr th {\n",
       "        text-align: left;\n",
       "    }\n",
       "\n",
       "    .dataframe thead tr:last-of-type th {\n",
       "        text-align: right;\n",
       "    }\n",
       "</style>\n",
       "<table border=\"1\" class=\"dataframe\">\n",
       "  <thead>\n",
       "    <tr>\n",
       "      <th></th>\n",
       "      <th></th>\n",
       "      <th colspan=\"12\" halign=\"left\">price</th>\n",
       "    </tr>\n",
       "    <tr>\n",
       "      <th></th>\n",
       "      <th>Month</th>\n",
       "      <th>1</th>\n",
       "      <th>2</th>\n",
       "      <th>3</th>\n",
       "      <th>4</th>\n",
       "      <th>5</th>\n",
       "      <th>6</th>\n",
       "      <th>7</th>\n",
       "      <th>8</th>\n",
       "      <th>9</th>\n",
       "      <th>10</th>\n",
       "      <th>11</th>\n",
       "      <th>12</th>\n",
       "    </tr>\n",
       "    <tr>\n",
       "      <th>name</th>\n",
       "      <th>type</th>\n",
       "      <th></th>\n",
       "      <th></th>\n",
       "      <th></th>\n",
       "      <th></th>\n",
       "      <th></th>\n",
       "      <th></th>\n",
       "      <th></th>\n",
       "      <th></th>\n",
       "      <th></th>\n",
       "      <th></th>\n",
       "      <th></th>\n",
       "      <th></th>\n",
       "    </tr>\n",
       "  </thead>\n",
       "  <tbody>\n",
       "    <tr>\n",
       "      <th>bbq_ckn</th>\n",
       "      <th>chicken</th>\n",
       "      <td>3770.25</td>\n",
       "      <td>3416.75</td>\n",
       "      <td>4049.25</td>\n",
       "      <td>3788.50</td>\n",
       "      <td>3953.50</td>\n",
       "      <td>3377.50</td>\n",
       "      <td>3784.25</td>\n",
       "      <td>3300.25</td>\n",
       "      <td>3380.00</td>\n",
       "      <td>2946.00</td>\n",
       "      <td>3881.75</td>\n",
       "      <td>3120.00</td>\n",
       "    </tr>\n",
       "    <tr>\n",
       "      <th>big_meat</th>\n",
       "      <th>classic</th>\n",
       "      <td>1800.00</td>\n",
       "      <td>1812.00</td>\n",
       "      <td>2112.00</td>\n",
       "      <td>1668.00</td>\n",
       "      <td>2280.00</td>\n",
       "      <td>1668.00</td>\n",
       "      <td>2220.00</td>\n",
       "      <td>1920.00</td>\n",
       "      <td>1704.00</td>\n",
       "      <td>1812.00</td>\n",
       "      <td>2088.00</td>\n",
       "      <td>1884.00</td>\n",
       "    </tr>\n",
       "    <tr>\n",
       "      <th>brie_carre</th>\n",
       "      <th>supreme</th>\n",
       "      <td>827.75</td>\n",
       "      <td>1040.60</td>\n",
       "      <td>1087.90</td>\n",
       "      <td>756.80</td>\n",
       "      <td>1087.90</td>\n",
       "      <td>946.00</td>\n",
       "      <td>1040.60</td>\n",
       "      <td>1016.95</td>\n",
       "      <td>1158.85</td>\n",
       "      <td>804.10</td>\n",
       "      <td>993.30</td>\n",
       "      <td>827.75</td>\n",
       "    </tr>\n",
       "    <tr>\n",
       "      <th>calabrese</th>\n",
       "      <th>supreme</th>\n",
       "      <td>1156.75</td>\n",
       "      <td>1461.50</td>\n",
       "      <td>1108.25</td>\n",
       "      <td>1380.75</td>\n",
       "      <td>1393.00</td>\n",
       "      <td>1526.50</td>\n",
       "      <td>1428.75</td>\n",
       "      <td>1262.25</td>\n",
       "      <td>1104.50</td>\n",
       "      <td>1372.25</td>\n",
       "      <td>1595.50</td>\n",
       "      <td>1144.25</td>\n",
       "    </tr>\n",
       "    <tr>\n",
       "      <th>cali_ckn</th>\n",
       "      <th>chicken</th>\n",
       "      <td>3471.50</td>\n",
       "      <td>3537.00</td>\n",
       "      <td>3457.50</td>\n",
       "      <td>3092.00</td>\n",
       "      <td>3561.25</td>\n",
       "      <td>3870.50</td>\n",
       "      <td>3252.25</td>\n",
       "      <td>3977.25</td>\n",
       "      <td>3088.75</td>\n",
       "      <td>2833.50</td>\n",
       "      <td>3692.75</td>\n",
       "      <td>3575.25</td>\n",
       "    </tr>\n",
       "    <tr>\n",
       "      <th>ckn_alfredo</th>\n",
       "      <th>chicken</th>\n",
       "      <td>1456.50</td>\n",
       "      <td>1267.50</td>\n",
       "      <td>1779.00</td>\n",
       "      <td>1259.50</td>\n",
       "      <td>1439.75</td>\n",
       "      <td>1410.25</td>\n",
       "      <td>1222.75</td>\n",
       "      <td>1402.25</td>\n",
       "      <td>1400.75</td>\n",
       "      <td>1364.00</td>\n",
       "      <td>1625.75</td>\n",
       "      <td>1272.25</td>\n",
       "    </tr>\n",
       "    <tr>\n",
       "      <th>ckn_pesto</th>\n",
       "      <th>chicken</th>\n",
       "      <td>1337.75</td>\n",
       "      <td>1433.50</td>\n",
       "      <td>1340.75</td>\n",
       "      <td>1550.75</td>\n",
       "      <td>1379.25</td>\n",
       "      <td>1339.25</td>\n",
       "      <td>1427.75</td>\n",
       "      <td>1380.75</td>\n",
       "      <td>1483.00</td>\n",
       "      <td>1254.00</td>\n",
       "      <td>1401.50</td>\n",
       "      <td>1373.50</td>\n",
       "    </tr>\n",
       "    <tr>\n",
       "      <th>classic_dlx</th>\n",
       "      <th>classic</th>\n",
       "      <td>2941.50</td>\n",
       "      <td>2705.00</td>\n",
       "      <td>3168.00</td>\n",
       "      <td>3342.50</td>\n",
       "      <td>3444.00</td>\n",
       "      <td>3029.00</td>\n",
       "      <td>3554.50</td>\n",
       "      <td>3187.00</td>\n",
       "      <td>3257.50</td>\n",
       "      <td>3075.50</td>\n",
       "      <td>3379.50</td>\n",
       "      <td>3096.50</td>\n",
       "    </tr>\n",
       "    <tr>\n",
       "      <th>five_cheese</th>\n",
       "      <th>veggie</th>\n",
       "      <td>2553.00</td>\n",
       "      <td>2090.50</td>\n",
       "      <td>2312.50</td>\n",
       "      <td>1979.50</td>\n",
       "      <td>2294.00</td>\n",
       "      <td>2294.00</td>\n",
       "      <td>2571.50</td>\n",
       "      <td>2090.50</td>\n",
       "      <td>2127.50</td>\n",
       "      <td>2090.50</td>\n",
       "      <td>2016.50</td>\n",
       "      <td>1646.50</td>\n",
       "    </tr>\n",
       "    <tr>\n",
       "      <th>four_cheese</th>\n",
       "      <th>veggie</th>\n",
       "      <td>2671.65</td>\n",
       "      <td>2734.40</td>\n",
       "      <td>2811.35</td>\n",
       "      <td>2744.70</td>\n",
       "      <td>3052.50</td>\n",
       "      <td>2515.80</td>\n",
       "      <td>2770.30</td>\n",
       "      <td>2344.65</td>\n",
       "      <td>2481.85</td>\n",
       "      <td>2870.35</td>\n",
       "      <td>2536.95</td>\n",
       "      <td>2731.20</td>\n",
       "    </tr>\n",
       "    <tr>\n",
       "      <th>green_garden</th>\n",
       "      <th>veggie</th>\n",
       "      <td>1065.50</td>\n",
       "      <td>1226.50</td>\n",
       "      <td>1262.75</td>\n",
       "      <td>1145.75</td>\n",
       "      <td>1258.25</td>\n",
       "      <td>1230.50</td>\n",
       "      <td>1426.50</td>\n",
       "      <td>1150.00</td>\n",
       "      <td>1254.00</td>\n",
       "      <td>1181.50</td>\n",
       "      <td>836.50</td>\n",
       "      <td>918.00</td>\n",
       "    </tr>\n",
       "    <tr>\n",
       "      <th>hawaiian</th>\n",
       "      <th>classic</th>\n",
       "      <td>2442.75</td>\n",
       "      <td>2633.00</td>\n",
       "      <td>2878.50</td>\n",
       "      <td>2867.75</td>\n",
       "      <td>2688.00</td>\n",
       "      <td>2563.75</td>\n",
       "      <td>2620.25</td>\n",
       "      <td>2678.75</td>\n",
       "      <td>2616.25</td>\n",
       "      <td>2514.75</td>\n",
       "      <td>2952.75</td>\n",
       "      <td>2816.75</td>\n",
       "    </tr>\n",
       "    <tr>\n",
       "      <th>ital_cpcllo</th>\n",
       "      <th>classic</th>\n",
       "      <td>2153.00</td>\n",
       "      <td>2079.00</td>\n",
       "      <td>2084.50</td>\n",
       "      <td>2260.00</td>\n",
       "      <td>2018.50</td>\n",
       "      <td>2247.50</td>\n",
       "      <td>2301.50</td>\n",
       "      <td>2084.50</td>\n",
       "      <td>1981.00</td>\n",
       "      <td>1813.00</td>\n",
       "      <td>1949.50</td>\n",
       "      <td>2122.00</td>\n",
       "    </tr>\n",
       "    <tr>\n",
       "      <th>ital_supr</th>\n",
       "      <th>supreme</th>\n",
       "      <td>2954.75</td>\n",
       "      <td>2555.25</td>\n",
       "      <td>2665.00</td>\n",
       "      <td>3079.50</td>\n",
       "      <td>3142.25</td>\n",
       "      <td>2958.75</td>\n",
       "      <td>2540.50</td>\n",
       "      <td>3002.50</td>\n",
       "      <td>2488.75</td>\n",
       "      <td>2446.50</td>\n",
       "      <td>3051.00</td>\n",
       "      <td>2592.00</td>\n",
       "    </tr>\n",
       "    <tr>\n",
       "      <th>ital_veggie</th>\n",
       "      <th>veggie</th>\n",
       "      <td>1653.50</td>\n",
       "      <td>1396.50</td>\n",
       "      <td>1397.25</td>\n",
       "      <td>1404.75</td>\n",
       "      <td>1425.25</td>\n",
       "      <td>1184.75</td>\n",
       "      <td>1202.00</td>\n",
       "      <td>1295.50</td>\n",
       "      <td>1169.00</td>\n",
       "      <td>1337.50</td>\n",
       "      <td>1170.00</td>\n",
       "      <td>1383.25</td>\n",
       "    </tr>\n",
       "    <tr>\n",
       "      <th>mediterraneo</th>\n",
       "      <th>veggie</th>\n",
       "      <td>1147.50</td>\n",
       "      <td>1083.50</td>\n",
       "      <td>1301.00</td>\n",
       "      <td>1246.00</td>\n",
       "      <td>1500.00</td>\n",
       "      <td>1214.75</td>\n",
       "      <td>1453.25</td>\n",
       "      <td>1276.75</td>\n",
       "      <td>1268.25</td>\n",
       "      <td>1073.75</td>\n",
       "      <td>1432.25</td>\n",
       "      <td>1363.50</td>\n",
       "    </tr>\n",
       "    <tr>\n",
       "      <th>mexicana</th>\n",
       "      <th>veggie</th>\n",
       "      <td>2358.25</td>\n",
       "      <td>1915.50</td>\n",
       "      <td>2388.75</td>\n",
       "      <td>2396.00</td>\n",
       "      <td>1879.75</td>\n",
       "      <td>2230.75</td>\n",
       "      <td>2643.25</td>\n",
       "      <td>2234.00</td>\n",
       "      <td>1807.00</td>\n",
       "      <td>2024.25</td>\n",
       "      <td>2872.50</td>\n",
       "      <td>2030.75</td>\n",
       "    </tr>\n",
       "    <tr>\n",
       "      <th>napolitana</th>\n",
       "      <th>classic</th>\n",
       "      <td>2306.50</td>\n",
       "      <td>1910.50</td>\n",
       "      <td>1774.00</td>\n",
       "      <td>1929.50</td>\n",
       "      <td>1846.50</td>\n",
       "      <td>2291.50</td>\n",
       "      <td>2023.50</td>\n",
       "      <td>2277.50</td>\n",
       "      <td>1986.50</td>\n",
       "      <td>2121.00</td>\n",
       "      <td>1953.50</td>\n",
       "      <td>1666.50</td>\n",
       "    </tr>\n",
       "    <tr>\n",
       "      <th>pep_msh_pep</th>\n",
       "      <th>classic</th>\n",
       "      <td>1435.00</td>\n",
       "      <td>1530.00</td>\n",
       "      <td>1586.00</td>\n",
       "      <td>1548.00</td>\n",
       "      <td>1659.00</td>\n",
       "      <td>1786.00</td>\n",
       "      <td>1689.00</td>\n",
       "      <td>1792.00</td>\n",
       "      <td>1686.50</td>\n",
       "      <td>1474.00</td>\n",
       "      <td>1234.50</td>\n",
       "      <td>1414.50</td>\n",
       "    </tr>\n",
       "    <tr>\n",
       "      <th>pepperoni</th>\n",
       "      <th>classic</th>\n",
       "      <td>3001.25</td>\n",
       "      <td>2554.25</td>\n",
       "      <td>2323.75</td>\n",
       "      <td>2112.75</td>\n",
       "      <td>2998.75</td>\n",
       "      <td>2055.25</td>\n",
       "      <td>2819.25</td>\n",
       "      <td>2637.75</td>\n",
       "      <td>2466.75</td>\n",
       "      <td>2471.00</td>\n",
       "      <td>2428.00</td>\n",
       "      <td>2293.00</td>\n",
       "    </tr>\n",
       "    <tr>\n",
       "      <th>peppr_salami</th>\n",
       "      <th>supreme</th>\n",
       "      <td>2342.25</td>\n",
       "      <td>1862.25</td>\n",
       "      <td>2184.50</td>\n",
       "      <td>2362.75</td>\n",
       "      <td>2056.00</td>\n",
       "      <td>2266.50</td>\n",
       "      <td>2213.50</td>\n",
       "      <td>1894.25</td>\n",
       "      <td>1816.25</td>\n",
       "      <td>2238.25</td>\n",
       "      <td>2227.00</td>\n",
       "      <td>2065.50</td>\n",
       "    </tr>\n",
       "    <tr>\n",
       "      <th>prsc_argla</th>\n",
       "      <th>supreme</th>\n",
       "      <td>2218.00</td>\n",
       "      <td>2005.75</td>\n",
       "      <td>2137.25</td>\n",
       "      <td>1789.25</td>\n",
       "      <td>1886.50</td>\n",
       "      <td>1876.75</td>\n",
       "      <td>2211.75</td>\n",
       "      <td>1956.00</td>\n",
       "      <td>1871.25</td>\n",
       "      <td>2333.25</td>\n",
       "      <td>2059.75</td>\n",
       "      <td>1847.75</td>\n",
       "    </tr>\n",
       "    <tr>\n",
       "      <th>sicilian</th>\n",
       "      <th>supreme</th>\n",
       "      <td>2987.75</td>\n",
       "      <td>2560.00</td>\n",
       "      <td>2442.75</td>\n",
       "      <td>2434.75</td>\n",
       "      <td>2433.50</td>\n",
       "      <td>2653.75</td>\n",
       "      <td>2473.75</td>\n",
       "      <td>2548.00</td>\n",
       "      <td>2260.00</td>\n",
       "      <td>2678.00</td>\n",
       "      <td>2896.50</td>\n",
       "      <td>2571.75</td>\n",
       "    </tr>\n",
       "    <tr>\n",
       "      <th>soppressata</th>\n",
       "      <th>supreme</th>\n",
       "      <td>1323.50</td>\n",
       "      <td>1289.25</td>\n",
       "      <td>1335.00</td>\n",
       "      <td>1638.50</td>\n",
       "      <td>1505.00</td>\n",
       "      <td>1526.50</td>\n",
       "      <td>1476.00</td>\n",
       "      <td>1335.00</td>\n",
       "      <td>1107.25</td>\n",
       "      <td>1488.50</td>\n",
       "      <td>1243.75</td>\n",
       "      <td>1157.50</td>\n",
       "    </tr>\n",
       "    <tr>\n",
       "      <th>southw_ckn</th>\n",
       "      <th>chicken</th>\n",
       "      <td>2495.50</td>\n",
       "      <td>2804.25</td>\n",
       "      <td>3155.25</td>\n",
       "      <td>3096.25</td>\n",
       "      <td>2860.25</td>\n",
       "      <td>2584.00</td>\n",
       "      <td>3241.50</td>\n",
       "      <td>3019.50</td>\n",
       "      <td>2950.25</td>\n",
       "      <td>2891.25</td>\n",
       "      <td>3022.00</td>\n",
       "      <td>2585.75</td>\n",
       "    </tr>\n",
       "    <tr>\n",
       "      <th>spicy_ital</th>\n",
       "      <th>supreme</th>\n",
       "      <td>2762.00</td>\n",
       "      <td>2646.25</td>\n",
       "      <td>3205.75</td>\n",
       "      <td>2758.25</td>\n",
       "      <td>3430.75</td>\n",
       "      <td>2985.75</td>\n",
       "      <td>3459.00</td>\n",
       "      <td>2795.50</td>\n",
       "      <td>2372.50</td>\n",
       "      <td>2707.25</td>\n",
       "      <td>2999.50</td>\n",
       "      <td>2708.75</td>\n",
       "    </tr>\n",
       "    <tr>\n",
       "      <th>spin_pesto</th>\n",
       "      <th>veggie</th>\n",
       "      <td>1269.25</td>\n",
       "      <td>1211.00</td>\n",
       "      <td>1513.75</td>\n",
       "      <td>913.25</td>\n",
       "      <td>1551.25</td>\n",
       "      <td>1485.50</td>\n",
       "      <td>1261.75</td>\n",
       "      <td>1377.00</td>\n",
       "      <td>1409.25</td>\n",
       "      <td>953.75</td>\n",
       "      <td>1481.00</td>\n",
       "      <td>1169.25</td>\n",
       "    </tr>\n",
       "    <tr>\n",
       "      <th>spinach_fet</th>\n",
       "      <th>veggie</th>\n",
       "      <td>2047.25</td>\n",
       "      <td>1695.25</td>\n",
       "      <td>2146.25</td>\n",
       "      <td>1878.25</td>\n",
       "      <td>2231.75</td>\n",
       "      <td>1881.00</td>\n",
       "      <td>2059.00</td>\n",
       "      <td>2319.00</td>\n",
       "      <td>1756.00</td>\n",
       "      <td>1435.00</td>\n",
       "      <td>1925.25</td>\n",
       "      <td>1897.25</td>\n",
       "    </tr>\n",
       "    <tr>\n",
       "      <th>spinach_supr</th>\n",
       "      <th>supreme</th>\n",
       "      <td>1357.00</td>\n",
       "      <td>1298.00</td>\n",
       "      <td>1153.25</td>\n",
       "      <td>1443.00</td>\n",
       "      <td>1380.75</td>\n",
       "      <td>1356.75</td>\n",
       "      <td>1373.00</td>\n",
       "      <td>1283.00</td>\n",
       "      <td>1116.25</td>\n",
       "      <td>1207.00</td>\n",
       "      <td>1136.50</td>\n",
       "      <td>1173.25</td>\n",
       "    </tr>\n",
       "    <tr>\n",
       "      <th>thai_ckn</th>\n",
       "      <th>chicken</th>\n",
       "      <td>3657.25</td>\n",
       "      <td>3009.25</td>\n",
       "      <td>3843.75</td>\n",
       "      <td>3686.00</td>\n",
       "      <td>3558.25</td>\n",
       "      <td>3505.00</td>\n",
       "      <td>4073.75</td>\n",
       "      <td>3272.50</td>\n",
       "      <td>3736.25</td>\n",
       "      <td>3503.25</td>\n",
       "      <td>3776.00</td>\n",
       "      <td>3813.00</td>\n",
       "    </tr>\n",
       "    <tr>\n",
       "      <th>the_greek</th>\n",
       "      <th>classic</th>\n",
       "      <td>2539.40</td>\n",
       "      <td>2112.35</td>\n",
       "      <td>2189.85</td>\n",
       "      <td>3088.30</td>\n",
       "      <td>2488.35</td>\n",
       "      <td>2394.90</td>\n",
       "      <td>2425.00</td>\n",
       "      <td>2244.40</td>\n",
       "      <td>2134.35</td>\n",
       "      <td>2127.90</td>\n",
       "      <td>2599.85</td>\n",
       "      <td>2109.45</td>\n",
       "    </tr>\n",
       "    <tr>\n",
       "      <th>veggie_veg</th>\n",
       "      <th>veggie</th>\n",
       "      <td>2289.50</td>\n",
       "      <td>2283.25</td>\n",
       "      <td>2201.75</td>\n",
       "      <td>2095.25</td>\n",
       "      <td>1719.00</td>\n",
       "      <td>1973.50</td>\n",
       "      <td>2298.25</td>\n",
       "      <td>1923.00</td>\n",
       "      <td>1739.75</td>\n",
       "      <td>1584.75</td>\n",
       "      <td>1936.25</td>\n",
       "      <td>2330.50</td>\n",
       "    </tr>\n",
       "  </tbody>\n",
       "</table>\n",
       "</div>"
      ],
      "text/plain": [
       "                        price                                               \\\n",
       "Month                      1        2        3        4        5        6    \n",
       "name         type                                                            \n",
       "bbq_ckn      chicken  3770.25  3416.75  4049.25  3788.50  3953.50  3377.50   \n",
       "big_meat     classic  1800.00  1812.00  2112.00  1668.00  2280.00  1668.00   \n",
       "brie_carre   supreme   827.75  1040.60  1087.90   756.80  1087.90   946.00   \n",
       "calabrese    supreme  1156.75  1461.50  1108.25  1380.75  1393.00  1526.50   \n",
       "cali_ckn     chicken  3471.50  3537.00  3457.50  3092.00  3561.25  3870.50   \n",
       "ckn_alfredo  chicken  1456.50  1267.50  1779.00  1259.50  1439.75  1410.25   \n",
       "ckn_pesto    chicken  1337.75  1433.50  1340.75  1550.75  1379.25  1339.25   \n",
       "classic_dlx  classic  2941.50  2705.00  3168.00  3342.50  3444.00  3029.00   \n",
       "five_cheese  veggie   2553.00  2090.50  2312.50  1979.50  2294.00  2294.00   \n",
       "four_cheese  veggie   2671.65  2734.40  2811.35  2744.70  3052.50  2515.80   \n",
       "green_garden veggie   1065.50  1226.50  1262.75  1145.75  1258.25  1230.50   \n",
       "hawaiian     classic  2442.75  2633.00  2878.50  2867.75  2688.00  2563.75   \n",
       "ital_cpcllo  classic  2153.00  2079.00  2084.50  2260.00  2018.50  2247.50   \n",
       "ital_supr    supreme  2954.75  2555.25  2665.00  3079.50  3142.25  2958.75   \n",
       "ital_veggie  veggie   1653.50  1396.50  1397.25  1404.75  1425.25  1184.75   \n",
       "mediterraneo veggie   1147.50  1083.50  1301.00  1246.00  1500.00  1214.75   \n",
       "mexicana     veggie   2358.25  1915.50  2388.75  2396.00  1879.75  2230.75   \n",
       "napolitana   classic  2306.50  1910.50  1774.00  1929.50  1846.50  2291.50   \n",
       "pep_msh_pep  classic  1435.00  1530.00  1586.00  1548.00  1659.00  1786.00   \n",
       "pepperoni    classic  3001.25  2554.25  2323.75  2112.75  2998.75  2055.25   \n",
       "peppr_salami supreme  2342.25  1862.25  2184.50  2362.75  2056.00  2266.50   \n",
       "prsc_argla   supreme  2218.00  2005.75  2137.25  1789.25  1886.50  1876.75   \n",
       "sicilian     supreme  2987.75  2560.00  2442.75  2434.75  2433.50  2653.75   \n",
       "soppressata  supreme  1323.50  1289.25  1335.00  1638.50  1505.00  1526.50   \n",
       "southw_ckn   chicken  2495.50  2804.25  3155.25  3096.25  2860.25  2584.00   \n",
       "spicy_ital   supreme  2762.00  2646.25  3205.75  2758.25  3430.75  2985.75   \n",
       "spin_pesto   veggie   1269.25  1211.00  1513.75   913.25  1551.25  1485.50   \n",
       "spinach_fet  veggie   2047.25  1695.25  2146.25  1878.25  2231.75  1881.00   \n",
       "spinach_supr supreme  1357.00  1298.00  1153.25  1443.00  1380.75  1356.75   \n",
       "thai_ckn     chicken  3657.25  3009.25  3843.75  3686.00  3558.25  3505.00   \n",
       "the_greek    classic  2539.40  2112.35  2189.85  3088.30  2488.35  2394.90   \n",
       "veggie_veg   veggie   2289.50  2283.25  2201.75  2095.25  1719.00  1973.50   \n",
       "\n",
       "                                                                            \n",
       "Month                      7        8        9        10       11       12  \n",
       "name         type                                                           \n",
       "bbq_ckn      chicken  3784.25  3300.25  3380.00  2946.00  3881.75  3120.00  \n",
       "big_meat     classic  2220.00  1920.00  1704.00  1812.00  2088.00  1884.00  \n",
       "brie_carre   supreme  1040.60  1016.95  1158.85   804.10   993.30   827.75  \n",
       "calabrese    supreme  1428.75  1262.25  1104.50  1372.25  1595.50  1144.25  \n",
       "cali_ckn     chicken  3252.25  3977.25  3088.75  2833.50  3692.75  3575.25  \n",
       "ckn_alfredo  chicken  1222.75  1402.25  1400.75  1364.00  1625.75  1272.25  \n",
       "ckn_pesto    chicken  1427.75  1380.75  1483.00  1254.00  1401.50  1373.50  \n",
       "classic_dlx  classic  3554.50  3187.00  3257.50  3075.50  3379.50  3096.50  \n",
       "five_cheese  veggie   2571.50  2090.50  2127.50  2090.50  2016.50  1646.50  \n",
       "four_cheese  veggie   2770.30  2344.65  2481.85  2870.35  2536.95  2731.20  \n",
       "green_garden veggie   1426.50  1150.00  1254.00  1181.50   836.50   918.00  \n",
       "hawaiian     classic  2620.25  2678.75  2616.25  2514.75  2952.75  2816.75  \n",
       "ital_cpcllo  classic  2301.50  2084.50  1981.00  1813.00  1949.50  2122.00  \n",
       "ital_supr    supreme  2540.50  3002.50  2488.75  2446.50  3051.00  2592.00  \n",
       "ital_veggie  veggie   1202.00  1295.50  1169.00  1337.50  1170.00  1383.25  \n",
       "mediterraneo veggie   1453.25  1276.75  1268.25  1073.75  1432.25  1363.50  \n",
       "mexicana     veggie   2643.25  2234.00  1807.00  2024.25  2872.50  2030.75  \n",
       "napolitana   classic  2023.50  2277.50  1986.50  2121.00  1953.50  1666.50  \n",
       "pep_msh_pep  classic  1689.00  1792.00  1686.50  1474.00  1234.50  1414.50  \n",
       "pepperoni    classic  2819.25  2637.75  2466.75  2471.00  2428.00  2293.00  \n",
       "peppr_salami supreme  2213.50  1894.25  1816.25  2238.25  2227.00  2065.50  \n",
       "prsc_argla   supreme  2211.75  1956.00  1871.25  2333.25  2059.75  1847.75  \n",
       "sicilian     supreme  2473.75  2548.00  2260.00  2678.00  2896.50  2571.75  \n",
       "soppressata  supreme  1476.00  1335.00  1107.25  1488.50  1243.75  1157.50  \n",
       "southw_ckn   chicken  3241.50  3019.50  2950.25  2891.25  3022.00  2585.75  \n",
       "spicy_ital   supreme  3459.00  2795.50  2372.50  2707.25  2999.50  2708.75  \n",
       "spin_pesto   veggie   1261.75  1377.00  1409.25   953.75  1481.00  1169.25  \n",
       "spinach_fet  veggie   2059.00  2319.00  1756.00  1435.00  1925.25  1897.25  \n",
       "spinach_supr supreme  1373.00  1283.00  1116.25  1207.00  1136.50  1173.25  \n",
       "thai_ckn     chicken  4073.75  3272.50  3736.25  3503.25  3776.00  3813.00  \n",
       "the_greek    classic  2425.00  2244.40  2134.35  2127.90  2599.85  2109.45  \n",
       "veggie_veg   veggie   2298.25  1923.00  1739.75  1584.75  1936.25  2330.50  "
      ]
     },
     "execution_count": 146,
     "metadata": {},
     "output_type": "execute_result"
    }
   ],
   "source": [
    "df_pivot=pd.pivot_table(df,values=['price'],index=['name','type'],columns=['Month'], aggfunc={ 'price': \"sum\"})\n",
    "df_pivot"
   ]
  },
  {
   "cell_type": "code",
   "execution_count": 164,
   "id": "ba13abde",
   "metadata": {},
   "outputs": [
    {
     "data": {
      "text/plain": [
       "Index(['id', 'date', 'time', 'name', 'size', 'type', 'price', 'Year', 'Month'], dtype='object')"
      ]
     },
     "execution_count": 164,
     "metadata": {},
     "output_type": "execute_result"
    }
   ],
   "source": [
    "\n",
    "df.columns\n"
   ]
  },
  {
   "cell_type": "code",
   "execution_count": 167,
   "id": "29df6656",
   "metadata": {},
   "outputs": [
    {
     "data": {
      "text/plain": [
       "817860.05"
      ]
     },
     "execution_count": 167,
     "metadata": {},
     "output_type": "execute_result"
    }
   ],
   "source": [
    "# total Sales & #pizzas\n",
    "df['price'].sum()\n"
   ]
  },
  {
   "cell_type": "code",
   "execution_count": 168,
   "id": "213eb0c3",
   "metadata": {},
   "outputs": [
    {
     "data": {
      "text/plain": [
       "49574"
      ]
     },
     "execution_count": 168,
     "metadata": {},
     "output_type": "execute_result"
    }
   ],
   "source": [
    "#No. of pizzas\n",
    "df['id'].count()"
   ]
  },
  {
   "cell_type": "code",
   "execution_count": 188,
   "id": "d6ea9a88",
   "metadata": {},
   "outputs": [
    {
     "data": {
      "text/plain": [
       "(array([ 0,  1,  2,  3,  4,  5,  6,  7,  8,  9, 10, 11, 12, 13, 14, 15, 16,\n",
       "        17, 18, 19, 20, 21, 22, 23, 24, 25, 26, 27, 28, 29, 30, 31]),\n",
       " [Text(0, 0, 'hawaiian'),\n",
       "  Text(1, 0, 'classic_dlx'),\n",
       "  Text(2, 0, 'mexicana'),\n",
       "  Text(3, 0, 'thai_ckn'),\n",
       "  Text(4, 0, 'five_cheese'),\n",
       "  Text(5, 0, 'ital_supr'),\n",
       "  Text(6, 0, 'prsc_argla'),\n",
       "  Text(7, 0, 'bbq_ckn'),\n",
       "  Text(8, 0, 'the_greek'),\n",
       "  Text(9, 0, 'spinach_supr'),\n",
       "  Text(10, 0, 'spin_pesto'),\n",
       "  Text(11, 0, 'spicy_ital'),\n",
       "  Text(12, 0, 'ital_cpcllo'),\n",
       "  Text(13, 0, 'veggie_veg'),\n",
       "  Text(14, 0, 'green_garden'),\n",
       "  Text(15, 0, 'southw_ckn'),\n",
       "  Text(16, 0, 'pepperoni'),\n",
       "  Text(17, 0, 'cali_ckn'),\n",
       "  Text(18, 0, 'ckn_pesto'),\n",
       "  Text(19, 0, 'big_meat'),\n",
       "  Text(20, 0, 'soppressata'),\n",
       "  Text(21, 0, 'four_cheese'),\n",
       "  Text(22, 0, 'napolitana'),\n",
       "  Text(23, 0, 'mediterraneo'),\n",
       "  Text(24, 0, 'spinach_fet'),\n",
       "  Text(25, 0, 'ital_veggie'),\n",
       "  Text(26, 0, 'calabrese'),\n",
       "  Text(27, 0, 'peppr_salami'),\n",
       "  Text(28, 0, 'sicilian'),\n",
       "  Text(29, 0, 'ckn_alfredo'),\n",
       "  Text(30, 0, 'pep_msh_pep'),\n",
       "  Text(31, 0, 'brie_carre')])"
      ]
     },
     "execution_count": 188,
     "metadata": {},
     "output_type": "execute_result"
    },
    {
     "data": {
      "image/png": "[encoded data removed]",
      "text/plain": [
       "<Figure size 640x480 with 1 Axes>"
      ]
     },
     "metadata": {},
     "output_type": "display_data"
    }
   ],
   "source": [
    "# total Sales by name\n",
    "sns.barplot(data=df,x='name',y='price', ci=None,label=\"center\")\n",
    "plt.xticks(rotation=90)"
   ]
  },
  {
   "cell_type": "code",
   "execution_count": 192,
   "id": "21f12252",
   "metadata": {},
   "outputs": [
    {
     "data": {
      "image/png": "[encoded data removed]",
      "text/plain": [
       "<Figure size 640x480 with 1 Axes>"
      ]
     },
     "metadata": {},
     "output_type": "display_data"
    }
   ],
   "source": [
    "fig, axes = plt.subplots()\n",
    "count = pd.DataFrame(df[\"name\"].value_counts())\n",
    "sns.barplot(x=count.index[:10], y=count.iloc[:10, 0], ax=axes)\n",
    "for container in axes.containers:\n",
    "    axes.bar_label(container)\n",
    "axes.set_xticklabels(axes.get_xticklabels(), rotation=90)\n",
    "axes.set_yticklabels(())\n",
    "axes.set_title(\"Pizza counts\")\n",
    "plt.show()"
   ]
  },
  {
   "cell_type": "code",
   "execution_count": null,
   "id": "4fb83fe0",
   "metadata": {},
   "outputs": [],
   "source": []
  }
 ],
 "metadata": {
  "kernelspec": {
   "display_name": "Python 3 (ipykernel)",
   "language": "python",
   "name": "python3"
  },
  "language_info": {
   "codemirror_mode": {
    "name": "ipython",
    "version": 3
   },
   "file_extension": ".py",
   "mimetype": "text/x-python",
   "name": "python",
   "nbconvert_exporter": "python",
   "pygments_lexer": "ipython3",
   "version": "3.9.13"
  }
 },
 "nbformat": 4,
 "nbformat_minor": 5
}
